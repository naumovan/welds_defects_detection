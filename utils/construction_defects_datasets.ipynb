{
 "cells": [
  {
   "cell_type": "markdown",
   "id": "4dbf938f-3f32-465c-9139-f9d6fde069bf",
   "metadata": {},
   "source": [
    "# Посмотреть более глобально датасет можно с помощью FiftyOne"
   ]
  },
  {
   "cell_type": "code",
   "execution_count": 1,
   "id": "695bd310",
   "metadata": {},
   "outputs": [
    {
     "name": "stdout",
     "output_type": "stream",
     "text": [
      "Requirement already satisfied: fiftyone in ./vgg/lib/python3.11/site-packages (0.23.4)\n",
      "Requirement already satisfied: aiofiles in ./vgg/lib/python3.11/site-packages (from fiftyone) (23.2.1)\n",
      "Requirement already satisfied: argcomplete in ./vgg/lib/python3.11/site-packages (from fiftyone) (3.2.2)\n",
      "Requirement already satisfied: beautifulsoup4 in ./vgg/lib/python3.11/site-packages (from fiftyone) (4.12.3)\n",
      "Requirement already satisfied: boto3 in ./vgg/lib/python3.11/site-packages (from fiftyone) (1.34.39)\n",
      "Requirement already satisfied: cachetools in ./vgg/lib/python3.11/site-packages (from fiftyone) (5.3.2)\n",
      "Requirement already satisfied: dacite<1.8.0,>=1.6.0 in ./vgg/lib/python3.11/site-packages (from fiftyone) (1.7.0)\n",
      "Requirement already satisfied: Deprecated in ./vgg/lib/python3.11/site-packages (from fiftyone) (1.2.14)\n",
      "Requirement already satisfied: ftfy in ./vgg/lib/python3.11/site-packages (from fiftyone) (6.1.3)\n",
      "Requirement already satisfied: humanize in ./vgg/lib/python3.11/site-packages (from fiftyone) (4.9.0)\n",
      "Requirement already satisfied: hypercorn>=0.13.2 in ./vgg/lib/python3.11/site-packages (from fiftyone) (0.16.0)\n",
      "Requirement already satisfied: Jinja2>=3 in ./vgg/lib/python3.11/site-packages (from fiftyone) (3.1.3)\n",
      "Requirement already satisfied: kaleido!=0.2.1.post1 in ./vgg/lib/python3.11/site-packages (from fiftyone) (0.2.1)\n",
      "Requirement already satisfied: matplotlib in ./vgg/lib/python3.11/site-packages (from fiftyone) (3.8.2)\n",
      "Requirement already satisfied: mongoengine==0.24.2 in ./vgg/lib/python3.11/site-packages (from fiftyone) (0.24.2)\n",
      "Requirement already satisfied: motor>=2.5 in ./vgg/lib/python3.11/site-packages (from fiftyone) (3.3.2)\n",
      "Requirement already satisfied: numpy in ./vgg/lib/python3.11/site-packages (from fiftyone) (1.26.4)\n",
      "Requirement already satisfied: packaging in ./vgg/lib/python3.11/site-packages (from fiftyone) (23.2)\n",
      "Requirement already satisfied: pandas in ./vgg/lib/python3.11/site-packages (from fiftyone) (2.2.0)\n",
      "Requirement already satisfied: Pillow>=6.2 in ./vgg/lib/python3.11/site-packages (from fiftyone) (10.2.0)\n",
      "Requirement already satisfied: plotly>=4.14 in ./vgg/lib/python3.11/site-packages (from fiftyone) (5.18.0)\n",
      "Requirement already satisfied: pprintpp in ./vgg/lib/python3.11/site-packages (from fiftyone) (0.4.0)\n",
      "Requirement already satisfied: psutil in ./vgg/lib/python3.11/site-packages (from fiftyone) (5.9.8)\n",
      "Requirement already satisfied: pymongo>=3.12 in ./vgg/lib/python3.11/site-packages (from fiftyone) (4.6.1)\n",
      "Requirement already satisfied: pytz in ./vgg/lib/python3.11/site-packages (from fiftyone) (2024.1)\n",
      "Requirement already satisfied: PyYAML in ./vgg/lib/python3.11/site-packages (from fiftyone) (6.0.1)\n",
      "Requirement already satisfied: regex in ./vgg/lib/python3.11/site-packages (from fiftyone) (2023.12.25)\n",
      "Requirement already satisfied: retrying in ./vgg/lib/python3.11/site-packages (from fiftyone) (1.3.4)\n",
      "Requirement already satisfied: scikit-learn in ./vgg/lib/python3.11/site-packages (from fiftyone) (1.4.0)\n",
      "Requirement already satisfied: scikit-image in ./vgg/lib/python3.11/site-packages (from fiftyone) (0.22.0)\n",
      "Requirement already satisfied: setuptools in ./vgg/lib/python3.11/site-packages (from fiftyone) (65.5.0)\n",
      "Requirement already satisfied: sseclient-py<2,>=1.7.2 in ./vgg/lib/python3.11/site-packages (from fiftyone) (1.8.0)\n",
      "Requirement already satisfied: sse-starlette<1,>=0.10.3 in ./vgg/lib/python3.11/site-packages (from fiftyone) (0.10.3)\n",
      "Requirement already satisfied: starlette>=0.24.0 in ./vgg/lib/python3.11/site-packages (from fiftyone) (0.37.1)\n",
      "Requirement already satisfied: strawberry-graphql==0.138.1 in ./vgg/lib/python3.11/site-packages (from fiftyone) (0.138.1)\n",
      "Requirement already satisfied: tabulate in ./vgg/lib/python3.11/site-packages (from fiftyone) (0.9.0)\n",
      "Requirement already satisfied: xmltodict in ./vgg/lib/python3.11/site-packages (from fiftyone) (0.13.0)\n",
      "Requirement already satisfied: universal-analytics-python3<2,>=1.0.1 in ./vgg/lib/python3.11/site-packages (from fiftyone) (1.1.1)\n",
      "Requirement already satisfied: fiftyone-brain<0.17,>=0.16.0 in ./vgg/lib/python3.11/site-packages (from fiftyone) (0.16.0)\n",
      "Requirement already satisfied: fiftyone-db<2.0,>=0.4 in ./vgg/lib/python3.11/site-packages (from fiftyone) (1.1.1)\n",
      "Requirement already satisfied: voxel51-eta<0.13,>=0.12.4 in ./vgg/lib/python3.11/site-packages (from fiftyone) (0.12.4)\n",
      "Requirement already satisfied: opencv-python-headless in ./vgg/lib/python3.11/site-packages (from fiftyone) (4.9.0.80)\n",
      "Requirement already satisfied: graphql-core<3.3.0,>=3.2.0 in ./vgg/lib/python3.11/site-packages (from strawberry-graphql==0.138.1->fiftyone) (3.2.3)\n",
      "Requirement already satisfied: python-dateutil<3.0.0,>=2.7.0 in ./vgg/lib/python3.11/site-packages (from strawberry-graphql==0.138.1->fiftyone) (2.8.2)\n",
      "Requirement already satisfied: typing_extensions<5.0.0,>=3.7.4 in ./vgg/lib/python3.11/site-packages (from strawberry-graphql==0.138.1->fiftyone) (4.9.0)\n",
      "Requirement already satisfied: scipy>=1.2.0 in ./vgg/lib/python3.11/site-packages (from fiftyone-brain<0.17,>=0.16.0->fiftyone) (1.12.0)\n",
      "Requirement already satisfied: h11 in ./vgg/lib/python3.11/site-packages (from hypercorn>=0.13.2->fiftyone) (0.14.0)\n",
      "Requirement already satisfied: h2>=3.1.0 in ./vgg/lib/python3.11/site-packages (from hypercorn>=0.13.2->fiftyone) (4.1.0)\n",
      "Requirement already satisfied: priority in ./vgg/lib/python3.11/site-packages (from hypercorn>=0.13.2->fiftyone) (2.0.0)\n",
      "Requirement already satisfied: wsproto>=0.14.0 in ./vgg/lib/python3.11/site-packages (from hypercorn>=0.13.2->fiftyone) (1.2.0)\n",
      "Requirement already satisfied: MarkupSafe>=2.0 in ./vgg/lib/python3.11/site-packages (from Jinja2>=3->fiftyone) (2.1.5)\n",
      "Requirement already satisfied: tenacity>=6.2.0 in ./vgg/lib/python3.11/site-packages (from plotly>=4.14->fiftyone) (8.2.3)\n",
      "Requirement already satisfied: dnspython<3.0.0,>=1.16.0 in ./vgg/lib/python3.11/site-packages (from pymongo>=3.12->fiftyone) (2.5.0)\n",
      "Requirement already satisfied: anyio<5,>=3.4.0 in ./vgg/lib/python3.11/site-packages (from starlette>=0.24.0->fiftyone) (4.2.0)\n",
      "Requirement already satisfied: httpx>=0.10.0 in ./vgg/lib/python3.11/site-packages (from universal-analytics-python3<2,>=1.0.1->fiftyone) (0.26.0)\n",
      "Requirement already satisfied: dill in ./vgg/lib/python3.11/site-packages (from voxel51-eta<0.13,>=0.12.4->fiftyone) (0.3.8)\n",
      "Requirement already satisfied: future in ./vgg/lib/python3.11/site-packages (from voxel51-eta<0.13,>=0.12.4->fiftyone) (0.18.3)\n",
      "Requirement already satisfied: glob2 in ./vgg/lib/python3.11/site-packages (from voxel51-eta<0.13,>=0.12.4->fiftyone) (0.7)\n",
      "Requirement already satisfied: jsonlines in ./vgg/lib/python3.11/site-packages (from voxel51-eta<0.13,>=0.12.4->fiftyone) (4.0.0)\n",
      "Requirement already satisfied: py7zr in ./vgg/lib/python3.11/site-packages (from voxel51-eta<0.13,>=0.12.4->fiftyone) (0.20.8)\n",
      "Requirement already satisfied: rarfile in ./vgg/lib/python3.11/site-packages (from voxel51-eta<0.13,>=0.12.4->fiftyone) (4.1)\n",
      "Requirement already satisfied: requests in ./vgg/lib/python3.11/site-packages (from voxel51-eta<0.13,>=0.12.4->fiftyone) (2.31.0)\n",
      "Requirement already satisfied: six in ./vgg/lib/python3.11/site-packages (from voxel51-eta<0.13,>=0.12.4->fiftyone) (1.16.0)\n",
      "Requirement already satisfied: sortedcontainers in ./vgg/lib/python3.11/site-packages (from voxel51-eta<0.13,>=0.12.4->fiftyone) (2.4.0)\n",
      "Requirement already satisfied: tzlocal in ./vgg/lib/python3.11/site-packages (from voxel51-eta<0.13,>=0.12.4->fiftyone) (5.2)\n",
      "Requirement already satisfied: urllib3 in ./vgg/lib/python3.11/site-packages (from voxel51-eta<0.13,>=0.12.4->fiftyone) (2.0.7)\n",
      "Requirement already satisfied: soupsieve>1.2 in ./vgg/lib/python3.11/site-packages (from beautifulsoup4->fiftyone) (2.5)\n",
      "Requirement already satisfied: botocore<1.35.0,>=1.34.39 in ./vgg/lib/python3.11/site-packages (from boto3->fiftyone) (1.34.39)\n",
      "Requirement already satisfied: jmespath<2.0.0,>=0.7.1 in ./vgg/lib/python3.11/site-packages (from boto3->fiftyone) (1.0.1)\n",
      "Requirement already satisfied: s3transfer<0.11.0,>=0.10.0 in ./vgg/lib/python3.11/site-packages (from boto3->fiftyone) (0.10.0)\n",
      "Requirement already satisfied: wrapt<2,>=1.10 in ./vgg/lib/python3.11/site-packages (from Deprecated->fiftyone) (1.14.1)\n",
      "Requirement already satisfied: wcwidth<0.3.0,>=0.2.12 in ./vgg/lib/python3.11/site-packages (from ftfy->fiftyone) (0.2.13)\n",
      "Requirement already satisfied: contourpy>=1.0.1 in ./vgg/lib/python3.11/site-packages (from matplotlib->fiftyone) (1.2.0)\n",
      "Requirement already satisfied: cycler>=0.10 in ./vgg/lib/python3.11/site-packages (from matplotlib->fiftyone) (0.12.1)\n",
      "Requirement already satisfied: fonttools>=4.22.0 in ./vgg/lib/python3.11/site-packages (from matplotlib->fiftyone) (4.48.1)\n",
      "Requirement already satisfied: kiwisolver>=1.3.1 in ./vgg/lib/python3.11/site-packages (from matplotlib->fiftyone) (1.4.5)\n",
      "Requirement already satisfied: pyparsing>=2.3.1 in ./vgg/lib/python3.11/site-packages (from matplotlib->fiftyone) (3.1.1)\n",
      "Requirement already satisfied: tzdata>=2022.7 in ./vgg/lib/python3.11/site-packages (from pandas->fiftyone) (2024.1)\n",
      "Requirement already satisfied: networkx>=2.8 in ./vgg/lib/python3.11/site-packages (from scikit-image->fiftyone) (3.2.1)\n",
      "Requirement already satisfied: imageio>=2.27 in ./vgg/lib/python3.11/site-packages (from scikit-image->fiftyone) (2.34.0)\n",
      "Requirement already satisfied: tifffile>=2022.8.12 in ./vgg/lib/python3.11/site-packages (from scikit-image->fiftyone) (2024.1.30)\n",
      "Requirement already satisfied: lazy_loader>=0.3 in ./vgg/lib/python3.11/site-packages (from scikit-image->fiftyone) (0.3)\n",
      "Requirement already satisfied: joblib>=1.2.0 in ./vgg/lib/python3.11/site-packages (from scikit-learn->fiftyone) (1.3.2)\n",
      "Requirement already satisfied: threadpoolctl>=2.0.0 in ./vgg/lib/python3.11/site-packages (from scikit-learn->fiftyone) (3.2.0)\n",
      "Requirement already satisfied: idna>=2.8 in ./vgg/lib/python3.11/site-packages (from anyio<5,>=3.4.0->starlette>=0.24.0->fiftyone) (3.6)\n",
      "Requirement already satisfied: sniffio>=1.1 in ./vgg/lib/python3.11/site-packages (from anyio<5,>=3.4.0->starlette>=0.24.0->fiftyone) (1.3.0)\n",
      "Requirement already satisfied: hyperframe<7,>=6.0 in ./vgg/lib/python3.11/site-packages (from h2>=3.1.0->hypercorn>=0.13.2->fiftyone) (6.0.1)\n",
      "Requirement already satisfied: hpack<5,>=4.0 in ./vgg/lib/python3.11/site-packages (from h2>=3.1.0->hypercorn>=0.13.2->fiftyone) (4.0.0)\n",
      "Requirement already satisfied: certifi in ./vgg/lib/python3.11/site-packages (from httpx>=0.10.0->universal-analytics-python3<2,>=1.0.1->fiftyone) (2024.2.2)\n",
      "Requirement already satisfied: httpcore==1.* in ./vgg/lib/python3.11/site-packages (from httpx>=0.10.0->universal-analytics-python3<2,>=1.0.1->fiftyone) (1.0.2)\n",
      "Requirement already satisfied: attrs>=19.2.0 in ./vgg/lib/python3.11/site-packages (from jsonlines->voxel51-eta<0.13,>=0.12.4->fiftyone) (23.2.0)\n",
      "Requirement already satisfied: texttable in ./vgg/lib/python3.11/site-packages (from py7zr->voxel51-eta<0.13,>=0.12.4->fiftyone) (1.7.0)\n",
      "Requirement already satisfied: pycryptodomex>=3.16.0 in ./vgg/lib/python3.11/site-packages (from py7zr->voxel51-eta<0.13,>=0.12.4->fiftyone) (3.20.0)\n",
      "Requirement already satisfied: pyzstd>=0.15.9 in ./vgg/lib/python3.11/site-packages (from py7zr->voxel51-eta<0.13,>=0.12.4->fiftyone) (0.15.9)\n",
      "Requirement already satisfied: pyppmd<1.2.0,>=1.1.0 in ./vgg/lib/python3.11/site-packages (from py7zr->voxel51-eta<0.13,>=0.12.4->fiftyone) (1.1.0)\n",
      "Requirement already satisfied: pybcj<1.1.0,>=1.0.0 in ./vgg/lib/python3.11/site-packages (from py7zr->voxel51-eta<0.13,>=0.12.4->fiftyone) (1.0.2)\n",
      "Requirement already satisfied: multivolumefile>=0.2.3 in ./vgg/lib/python3.11/site-packages (from py7zr->voxel51-eta<0.13,>=0.12.4->fiftyone) (0.2.3)\n",
      "Requirement already satisfied: inflate64<1.1.0,>=1.0.0 in ./vgg/lib/python3.11/site-packages (from py7zr->voxel51-eta<0.13,>=0.12.4->fiftyone) (1.0.0)\n",
      "Requirement already satisfied: brotli>=1.1.0 in ./vgg/lib/python3.11/site-packages (from py7zr->voxel51-eta<0.13,>=0.12.4->fiftyone) (1.1.0)\n",
      "Requirement already satisfied: charset-normalizer<4,>=2 in ./vgg/lib/python3.11/site-packages (from requests->voxel51-eta<0.13,>=0.12.4->fiftyone) (3.3.2)\n",
      "Requirement already satisfied: torch in ./vgg/lib/python3.11/site-packages (2.2.0)\n",
      "Requirement already satisfied: filelock in ./vgg/lib/python3.11/site-packages (from torch) (3.13.1)\n",
      "Requirement already satisfied: typing-extensions>=4.8.0 in ./vgg/lib/python3.11/site-packages (from torch) (4.9.0)\n",
      "Requirement already satisfied: sympy in ./vgg/lib/python3.11/site-packages (from torch) (1.12)\n",
      "Requirement already satisfied: networkx in ./vgg/lib/python3.11/site-packages (from torch) (3.2.1)\n",
      "Requirement already satisfied: jinja2 in ./vgg/lib/python3.11/site-packages (from torch) (3.1.3)\n",
      "Requirement already satisfied: fsspec in ./vgg/lib/python3.11/site-packages (from torch) (2024.2.0)\n",
      "Requirement already satisfied: MarkupSafe>=2.0 in ./vgg/lib/python3.11/site-packages (from jinja2->torch) (2.1.5)\n",
      "Requirement already satisfied: mpmath>=0.19 in ./vgg/lib/python3.11/site-packages (from sympy->torch) (1.3.0)\n"
     ]
    }
   ],
   "source": [
    "!pip install fiftyone\n",
    "!pip install torch"
   ]
  },
  {
   "cell_type": "code",
   "execution_count": 3,
   "id": "229c2c79",
   "metadata": {},
   "outputs": [],
   "source": [
    "import fiftyone as fo\n",
    "import fiftyone.brain as fob\n",
    "from fiftyone import ViewField as F\n",
    "import os\n",
    "import re\n",
    "import glob\n",
    "import shutil\n",
    "from tqdm import tqdm\n",
    "import matplotlib.pyplot as plt\n",
    "%matplotlib inline\n",
    "import cv2\n",
    "import numpy as np\n",
    "import xml.etree.ElementTree as ET\n",
    "from xml.etree.ElementTree import Element, SubElement, Comment, tostring\n",
    "import torch"
   ]
  },
  {
   "cell_type": "markdown",
   "id": "df43be4f",
   "metadata": {},
   "source": [
    "## Datasets list"
   ]
  },
  {
   "cell_type": "code",
   "execution_count": 12,
   "id": "5e648611",
   "metadata": {},
   "outputs": [
    {
     "name": "stdout",
     "output_type": "stream",
     "text": [
      "/Users/user/virtualenv/rosatom/welds_defects_detection/utils\n"
     ]
    }
   ],
   "source": [
    "!pwd"
   ]
  },
  {
   "cell_type": "code",
   "execution_count": 13,
   "id": "efd178aa",
   "metadata": {},
   "outputs": [
    {
     "data": {
      "text/plain": [
       "['shvi_rosatom']"
      ]
     },
     "execution_count": 13,
     "metadata": {},
     "output_type": "execute_result"
    }
   ],
   "source": [
    "fo.list_datasets()"
   ]
  },
  {
   "cell_type": "markdown",
   "id": "30507acf-6894-4548-a07b-0229e3b8c793",
   "metadata": {},
   "source": [
    "## Удаление датасета"
   ]
  },
  {
   "cell_type": "code",
   "execution_count": null,
   "id": "bcd15827-7b4e-464e-88df-6bb4144ceb78",
   "metadata": {},
   "outputs": [],
   "source": [
    "dataset_to_delete = fo.load_dataset('dataset_name')\n",
    "dataset_to_delete.delete()"
   ]
  },
  {
   "cell_type": "markdown",
   "id": "55f7c19c",
   "metadata": {},
   "source": [
    "## Dataset ep600"
   ]
  },
  {
   "cell_type": "code",
   "execution_count": 11,
   "id": "21beb199",
   "metadata": {},
   "outputs": [
    {
     "name": "stdout",
     "output_type": "stream",
     "text": []
    },
    {
     "name": "stdout",
     "output_type": "stream",
     "text": [
      " 100% |███████████████| 1162/1162 [3.3s elapsed, 0s remaining, 354.6 samples/s]      \n"
     ]
    }
   ],
   "source": [
    "name = \"shvi_rosatom\"\n",
    "data_path = \"/Users/user/virtualenv/rosatom/data_to_train/JPEGImages\"\n",
    "labels_path = \"/Users/user/virtualenv/rosatom/data_to_train/Annotations\"\n",
    "\n",
    "# Import dataset by explicitly providing paths to the source media and labels\n",
    "dataset = fo.Dataset.from_dir(\n",
    "    dataset_type=fo.types.YOLOv4Dataset,\n",
    "    data_path=data_path,\n",
    "    labels_path=labels_path,\n",
    "    name=name,\n",
    ")\n",
    "dataset.persistent = True\n"
   ]
  },
  {
   "cell_type": "code",
   "execution_count": 15,
   "id": "4356c110",
   "metadata": {},
   "outputs": [],
   "source": [
    "dataset = fo.load_dataset('shvi_rosatom')"
   ]
  },
  {
   "cell_type": "code",
   "execution_count": 16,
   "id": "13b80f2c",
   "metadata": {
    "scrolled": true
   },
   "outputs": [
    {
     "data": {
      "text/html": [
       "\n",
       "        <iframe\n",
       "            width=\"100%\"\n",
       "            height=\"800\"\n",
       "            src=\"http://localhost:5151/?notebook=True&subscription=7d99a597-fbf6-473d-b11e-281a8fe275e9\"\n",
       "            frameborder=\"0\"\n",
       "            allowfullscreen\n",
       "            \n",
       "        ></iframe>\n",
       "        "
      ],
      "text/plain": [
       "<IPython.lib.display.IFrame at 0x142d64790>"
      ]
     },
     "metadata": {},
     "output_type": "display_data"
    }
   ],
   "source": [
    "session = fo.launch_app(dataset)"
   ]
  },
  {
   "cell_type": "code",
   "execution_count": null,
   "id": "84f7c151-7976-4291-87bd-b8a89b883264",
   "metadata": {},
   "outputs": [],
   "source": []
  }
 ],
 "metadata": {
  "kernelspec": {
   "display_name": "Python 3 (ipykernel)",
   "language": "python",
   "name": "python3"
  },
  "language_info": {
   "codemirror_mode": {
    "name": "ipython",
    "version": 3
   },
   "file_extension": ".py",
   "mimetype": "text/x-python",
   "name": "python",
   "nbconvert_exporter": "python",
   "pygments_lexer": "ipython3",
   "version": "3.9.10"
  }
 },
 "nbformat": 4,
 "nbformat_minor": 5
}
